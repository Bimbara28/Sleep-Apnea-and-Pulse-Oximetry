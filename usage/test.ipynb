{
 "cells": [
  {
   "cell_type": "markdown",
   "id": "ad1c93f7",
   "metadata": {},
   "source": [
    "#### Find the files that isn't downloaded"
   ]
  },
  {
   "cell_type": "code",
   "execution_count": 4,
   "id": "91adea4d",
   "metadata": {},
   "outputs": [],
   "source": [
    "import os"
   ]
  },
  {
   "cell_type": "code",
   "execution_count": 5,
   "id": "b880bcfb",
   "metadata": {},
   "outputs": [
    {
     "name": "stdout",
     "output_type": "stream",
     "text": [
      "200146 200246 200279\n"
     ]
    }
   ],
   "source": [
    "files_expected = [f\"shhs1-{i}_cleaned.parquet\" for i in range(200001, 200501)]\n",
    "for folder, subfolder, files in os.walk(\"data/shhs/polysomnography/edfs/shhs1/\"):\n",
    "    for file in files:\n",
    "        if  file.endswith(\".parquet\"):\n",
    "            files_expected.remove(file)\n",
    "\n",
    "print(' '.join([file.split(\".\")[0].split(\"-\")[-1].split(\"_\")[0] for file in files_expected]))"
   ]
  },
  {
   "cell_type": "code",
   "execution_count": 6,
   "id": "ef94ea10",
   "metadata": {},
   "outputs": [
    {
     "data": {
      "text/plain": [
       "3"
      ]
     },
     "execution_count": 6,
     "metadata": {},
     "output_type": "execute_result"
    }
   ],
   "source": [
    "len(files_expected)"
   ]
  },
  {
   "cell_type": "markdown",
   "id": "a5cf7803",
   "metadata": {},
   "source": [
    "#### Print Directory Structure"
   ]
  },
  {
   "cell_type": "code",
   "execution_count": 1,
   "id": "6d9a5ccc",
   "metadata": {},
   "outputs": [
    {
     "name": "stdout",
     "output_type": "stream",
     "text": [
      "├── LICENSE\n",
      "├── README.md\n",
      "├── sleep-project\n",
      "│   ├── README.md\n",
      "│   ├── dist\n",
      "│   │   ├── sleepdataspo2-0.1.0-py3-none-any.whl\n",
      "│   │   └── sleepdataspo2-0.1.0.tar.gz\n",
      "│   ├── pyproject.toml\n",
      "│   ├── sleepdataspo2\n",
      "│   │   ├── __init__.py\n",
      "│   │   ├── clean_features.py\n",
      "│   │   ├── constants.py\n",
      "│   │   ├── download_data.py\n",
      "│   │   ├── engineer_features.py\n",
      "│   │   ├── load_data.py\n",
      "│   │   ├── plot_graphs.py\n",
      "│   │   ├── process.py\n",
      "│   │   └── run_pipeline.py\n",
      "│   └── sleepdataspo2.egg-info\n",
      "│       ├── PKG-INFO\n",
      "│       ├── SOURCES.txt\n",
      "│       ├── dependency_links.txt\n",
      "│       ├── requires.txt\n",
      "│       └── top_level.txt\n",
      "└── usage\n",
      "    ├── INSTRUCTIONS.md\n",
      "    ├── cert.pem\n",
      "    ├── cfs-visit5-800045.edf\n",
      "    ├── cfs-visit5-800045.png\n",
      "    ├── cfs-visit5-dataset-0.7.0.csv\n",
      "    ├── data\n",
      "    │   ├── cfs\n",
      "    │   │   ├── images\n",
      "    │   │   │   ├── cleaned\n",
      "    │   │   │   │   └── cfs-visit5-800045.png\n",
      "    │   │   │   └── original\n",
      "    │   │   │       └── cfs-visit5-800045.png\n",
      "    │   │   └── polysomnography\n",
      "    │   │       └── edfs\n",
      "    │   │           ├── cfs-visit5-800045_cleaned.parquet\n",
      "    │   │           ├── extracted_42_features.csv\n",
      "    │   │           └── extracted_47_features.csv\n",
      "    │   └── shhs\n",
      "    │       └── polysomnography\n",
      "    │           └── edfs\n",
      "    │               └── shhs1\n",
      "    │                   ├── shhs1-200001.edf\n",
      "    │                   ├── shhs1-200001_cleaned.parquet\n",
      "    │                   ├── shhs1-200002.edf\n",
      "    │                   └── shhs1-200002_cleaned.parquet\n",
      "    ├── shhs1-dataset-0.21.0.csv\n",
      "    ├── sleep_apnea_detection.ipynb\n",
      "    └── test.ipynb\n"
     ]
    }
   ],
   "source": [
    "import os\n",
    "\n",
    "def print_tree(root, prefix=\"\"):\n",
    "    files = sorted(os.listdir(root))\n",
    "    entries = [f for f in files if not f.startswith('.')]  # skip hidden files\n",
    "    for index, name in enumerate(entries):\n",
    "        path = os.path.join(root, name)\n",
    "        is_last = index == len(entries) - 1\n",
    "        connector = \"└── \" if is_last else \"├── \"\n",
    "        print(prefix + connector + name)\n",
    "\n",
    "        if os.path.isdir(path):\n",
    "            extension = \"    \" if is_last else \"│   \"\n",
    "            print_tree(path, prefix + extension)\n",
    "\n",
    "# Example usage\n",
    "print_tree(\"../\")"
   ]
  },
  {
   "cell_type": "markdown",
   "id": "5c3ee4a7",
   "metadata": {},
   "source": [
    "### Cleaning\n",
    "\n",
    "1. Drop non-psysiological values (below 50 and above 100)\n",
    "2. Remove sharp jumps (8% quick drop or rise)\n",
    "3. Smooth with median filter with window = ($spo2[i] = median(spo2[i-int(\\frac{9}{2}): i+int(\\frac{9}{2})+1])$)\n",
    "4. Remove block artifacts (extended periods of invalid, flat, or low-quality signal, often due to sensor issues rather than true physiological events)\n",
    "5. Downsample to 1Hz\n",
    "6. Replace NAN by interpolating"
   ]
  },
  {
   "cell_type": "code",
   "execution_count": 52,
   "id": "dcd192c3",
   "metadata": {},
   "outputs": [],
   "source": [
    "import numpy as np"
   ]
  },
  {
   "cell_type": "code",
   "execution_count": 59,
   "id": "a7e4abcb",
   "metadata": {},
   "outputs": [
    {
     "data": {
      "text/plain": [
       "False"
      ]
     },
     "execution_count": 59,
     "metadata": {},
     "output_type": "execute_result"
    }
   ],
   "source": [
    "np.nan > 10"
   ]
  },
  {
   "cell_type": "code",
   "execution_count": 42,
   "id": "42f3dae9",
   "metadata": {},
   "outputs": [],
   "source": [
    "import pandas as pd\n",
    "df = pd.read_parquet(\"data/shhs/polysomnography/edfs/shhs1/shhs1-200002_cleaned.parquet\")"
   ]
  },
  {
   "cell_type": "code",
   "execution_count": 43,
   "id": "d3028986",
   "metadata": {},
   "outputs": [
    {
     "data": {
      "text/html": [
       "<div>\n",
       "<style scoped>\n",
       "    .dataframe tbody tr th:only-of-type {\n",
       "        vertical-align: middle;\n",
       "    }\n",
       "\n",
       "    .dataframe tbody tr th {\n",
       "        vertical-align: top;\n",
       "    }\n",
       "\n",
       "    .dataframe thead th {\n",
       "        text-align: right;\n",
       "    }\n",
       "</style>\n",
       "<table border=\"1\" class=\"dataframe\">\n",
       "  <thead>\n",
       "    <tr style=\"text-align: right;\">\n",
       "      <th></th>\n",
       "      <th>SaO2</th>\n",
       "    </tr>\n",
       "    <tr>\n",
       "      <th>time</th>\n",
       "      <th></th>\n",
       "    </tr>\n",
       "  </thead>\n",
       "  <tbody>\n",
       "    <tr>\n",
       "      <th>0</th>\n",
       "      <td>96.0</td>\n",
       "    </tr>\n",
       "    <tr>\n",
       "      <th>1</th>\n",
       "      <td>96.0</td>\n",
       "    </tr>\n",
       "    <tr>\n",
       "      <th>2</th>\n",
       "      <td>96.0</td>\n",
       "    </tr>\n",
       "    <tr>\n",
       "      <th>3</th>\n",
       "      <td>96.0</td>\n",
       "    </tr>\n",
       "    <tr>\n",
       "      <th>4</th>\n",
       "      <td>97.0</td>\n",
       "    </tr>\n",
       "  </tbody>\n",
       "</table>\n",
       "</div>"
      ],
      "text/plain": [
       "      SaO2\n",
       "time      \n",
       "0     96.0\n",
       "1     96.0\n",
       "2     96.0\n",
       "3     96.0\n",
       "4     97.0"
      ]
     },
     "execution_count": 43,
     "metadata": {},
     "output_type": "execute_result"
    }
   ],
   "source": [
    "df.head()"
   ]
  },
  {
   "cell_type": "code",
   "execution_count": 44,
   "id": "35af1718",
   "metadata": {},
   "outputs": [],
   "source": [
    "spo2 = df.SaO2.to_numpy()"
   ]
  },
  {
   "cell_type": "code",
   "execution_count": 45,
   "id": "9f0fc8dd",
   "metadata": {},
   "outputs": [],
   "source": [
    "from pobm.obm.desat import DesaturationsMeasures\n",
    "from pobm.obm.burden import HypoxicBurdenMeasures\n",
    "from pobm.obm.complex import ComplexityMeasures\n",
    "from pobm.obm.general import OverallGeneralMeasures\n",
    "from pobm.obm.periodicity import  PRSAMeasures, PSDMeasures\n",
    "from pobm._ResultsClasses import DesatMethodEnum\n",
    "from colorama import Fore, Style\n",
    "\n",
    "light_green = Fore.LIGHTGREEN_EX\n",
    "reset = Style.RESET_ALL"
   ]
  },
  {
   "cell_type": "markdown",
   "id": "81d9a010",
   "metadata": {},
   "source": [
    "### Statistical Features\n",
    "\n",
    "| #  | **Feature**       | **Category**       | **Description**                                                         |\n",
    "| -- | ----------------- | ------------------ | ----------------------------------------------------------------------- |\n",
    "| 1  | AV                | General Statistics | Mean SpO₂ over the entire signal                                        |\n",
    "| 2  | MED               | General Statistics | Median SpO₂                                                             |\n",
    "| 3  | Min               | General Statistics | Minimum SpO₂ value                                                      |\n",
    "| 4  | SD                | General Statistics | Standard deviation of SpO₂                                              |\n",
    "| 5  | RG                | General Statistics | Range (max - min) of SpO₂                                               |\n",
    "| 6  | Px                | General Statistics | xth percentile of SpO₂ values                                           |\n",
    "| 7  | Mx                | General Statistics | Percentage of signal below median oxygen saturation                     |\n",
    "| 8  | ZCx               | General Statistics | Number of zero-crossings at x% level (threshold crossing count)         |\n",
    "| 9  | ∆Ix (Delta Index) | General Statistics | Mean difference between consecutive SpO₂ values                         |"
   ]
  },
  {
   "cell_type": "code",
   "execution_count": 30,
   "id": "1db200e3",
   "metadata": {},
   "outputs": [
    {
     "name": "stdout",
     "output_type": "stream",
     "text": [
      "\u001b[92m[DEBUG]\u001b[0m Computing statistical features\n",
      "\u001b[92m[DEBUG]\u001b[0m Completed computing statistical features\n"
     ]
    }
   ],
   "source": [
    "statistics_class = OverallGeneralMeasures(ZC_Baseline=90, percentile=1, M_Threshold=2, DI_Window=12)\n",
    "# Compute the biomarkers\n",
    "print(f\"{light_green}[DEBUG]{reset} Computing statistical features\")\n",
    "results_statistics = statistics_class.compute(spo2)\n",
    "print(f\"{light_green}[DEBUG]{reset} Completed computing statistical features\")"
   ]
  },
  {
   "cell_type": "code",
   "execution_count": 31,
   "id": "13f60966",
   "metadata": {},
   "outputs": [
    {
     "data": {
      "text/plain": [
       "OverallGeneralMeasuresResult(AV=92.9753061794391, MED=93.0, Min=88.0, SD=1.3705162157425606, RG=10.0, P=89.0, M=3.4761904761904763, ZC=715, DI=0.4372965077706456, K=nan, SK=nan, MAD=nan)"
      ]
     },
     "execution_count": 31,
     "metadata": {},
     "output_type": "execute_result"
    }
   ],
   "source": [
    "results_statistics"
   ]
  },
  {
   "cell_type": "markdown",
   "id": "0151c723",
   "metadata": {},
   "source": [
    "### Periodicity Features\n",
    "\n",
    "PRSA stands for Phase-Rectified Signal Averaging — a signal processing technique used to detect and quantify quasi-periodic oscillations in noisy, nonstationary physiological signals, like SpO₂, heart rate, or PPG.\n",
    "\n",
    "PRSA enhances weak periodic patterns that might be hidden by noise. It’s especially useful in medical signals where regular patterns (like desaturations) don’t occur at perfectly regular intervals, but still follow a quasi-periodic trend.\n",
    "\n",
    "| #  | **Feature**       | **Category**       | **Description**                                                         |\n",
    "| -- | ----------------- | ------------------ | ----------------------------------------------------------------------- |\n",
    "| 15 | PRSADc            | Periodicity (PRSA) | PRSA capacity – magnitude of averaged oscillations                      |\n",
    "| 16 | PRSADad           | Periodicity (PRSA) | PRSA amplitude difference                                               |\n",
    "| 17 | PRSADos           | Periodicity (PRSA) | PRSA overall slope                                                      |\n",
    "| 18 | PRSADsb           | Periodicity (PRSA) | PRSA slope before anchor                                                |\n",
    "| 19 | PRSADsa           | Periodicity (PRSA) | PRSA slope after anchor                                                 |\n",
    "| 20 | AC                | Periodicity        | Autocorrelation of SpO₂                                                 |\n",
    "| 21 | PSDtotal          | Periodicity (PSD)  | Total power of the PSD                                                  |\n",
    "| 22 | PSDband           | Periodicity (PSD)  | Power within 0.014–0.033 Hz band                                        |\n",
    "| 23 | PSDratio          | Periodicity (PSD)  | PSDband / PSDtotal                                                      |\n",
    "| 24 | PSDpeak           | Periodicity (PSD)  | Peak amplitude in 0.014–0.033 Hz band                                   |"
   ]
  },
  {
   "cell_type": "code",
   "execution_count": 34,
   "id": "b03e0f6c",
   "metadata": {},
   "outputs": [
    {
     "name": "stdout",
     "output_type": "stream",
     "text": [
      "\u001b[92m[DEBUG]\u001b[0m Computing prsa periodicity features\n",
      "\u001b[92m[DEBUG]\u001b[0m Completed computing prsa periodicity features\n"
     ]
    }
   ],
   "source": [
    "prsa_class = PRSAMeasures(PRSA_Window=10, K_AC=2)\n",
    "# Compute the biomarkers\n",
    "print(f\"{light_green}[DEBUG]{reset} Computing prsa periodicity features\")\n",
    "results_PRSA = prsa_class.compute(spo2)\n",
    "print(f\"{light_green}[DEBUG]{reset} Completed computing prsa periodicity features\")"
   ]
  },
  {
   "cell_type": "code",
   "execution_count": 35,
   "id": "1fc53f9b",
   "metadata": {},
   "outputs": [
    {
     "data": {
      "text/plain": [
       "PRSAResults(PRSAc=-0.3322228952150219, PRSAad=1.019987886129627, PRSAos=-0.040812357969425346, PRSAsb=0.02151863884147737, PRSAsa=-0.022131674100178352, AC=103488.06666407414)"
      ]
     },
     "execution_count": 35,
     "metadata": {},
     "output_type": "execute_result"
    }
   ],
   "source": [
    "results_PRSA"
   ]
  },
  {
   "cell_type": "code",
   "execution_count": 36,
   "id": "f317b76f",
   "metadata": {},
   "outputs": [
    {
     "name": "stdout",
     "output_type": "stream",
     "text": [
      "\u001b[92m[DEBUG]\u001b[0m Computing psd periodicity features\n",
      "\u001b[92m[DEBUG]\u001b[0m Completed computing psd periodicity features\n"
     ]
    }
   ],
   "source": [
    "psd_class = PSDMeasures()\n",
    "# Compute the biomarkers\n",
    "print(f\"{light_green}[DEBUG]{reset} Computing psd periodicity features\")\n",
    "results_PSD = psd_class.compute(spo2)\n",
    "print(f\"{light_green}[DEBUG]{reset} Completed computing psd periodicity features\")"
   ]
  },
  {
   "cell_type": "code",
   "execution_count": 37,
   "id": "185c4456",
   "metadata": {},
   "outputs": [
    {
     "data": {
      "text/plain": [
       "PSDResults(PSD_total=0.006303910796616291, PSD_band=0.0021322983997468935, PSD_ratio=0.3382500908628709, PSD_peak=0.0006265100351549113)"
      ]
     },
     "execution_count": 37,
     "metadata": {},
     "output_type": "execute_result"
    }
   ],
   "source": [
    "results_PSD"
   ]
  },
  {
   "cell_type": "markdown",
   "id": "d7e4bdff",
   "metadata": {},
   "source": [
    "### Desaturation Features\n",
    "\n",
    "| #  | **Feature**       | **Category**       | **Description**                                                         |\n",
    "| -- | ----------------- | ------------------ | ----------------------------------------------------------------------- |\n",
    "| 25 | ODIx              | Desaturation       | Oxygen Desaturation Index (events/hour)                                 |\n",
    "| 26 | DLµ               | Desaturation       | Mean duration of desaturation events                                    |\n",
    "| 27 | DLσ               | Desaturation       | Std. of desaturation durations                                          |\n",
    "| 28 | DDmaxµ            | Desaturation       | Mean desaturation depth                                                 |\n",
    "| 29 | DDmaxσ            | Desaturation       | Std. of desaturation depth                                              |\n",
    "| 30 | DD100µ            | Desaturation       | Mean depth using 100% as baseline                                       |\n",
    "| 31 | DD100σ            | Desaturation       | Std. of depth using 100% as baseline                                    |\n",
    "| 32 | DSµ               | Desaturation       | Mean slope of desaturations                                             |\n",
    "| 33 | DSσ               | Desaturation       | Std. of slope of desaturations                                          |\n",
    "| 34 | DAmaxµ            | Desaturation       | Mean area of desaturations (from max baseline)                          |\n",
    "| 35 | DAmaxσ            | Desaturation       | Std. of area of desaturations                                           |\n",
    "| 36 | DA100µ            | Desaturation       | Mean area under 100% baseline                                           |\n",
    "| 37 | DA100σ            | Desaturation       | Std. of area under 100% baseline                                        |\n",
    "| 38 | TDµ               | Desaturation       | Mean time between desaturation events                                   |\n",
    "| 39 | TDσ               | Desaturation       | Std. of time between desaturation events                                |\n",
    "\n",
    "**🧠 Why ODI (Oxygen Desaturation Index) is not used with hard thresholds (83, 85, 90):**\n",
    "\n",
    "✅ 1. ODI is inherently a relative threshold-based feature\n",
    "\n",
    "- ODI counts how many desaturations occur per hour based on a percentage drop from baseline (e.g., 3% or 5% drop from local baseline).\n",
    "\n",
    "- The definition of a desaturation for ODI is:\n",
    "\n",
    "`A ≥3% (or ≥4%, 5%) drop from the running or estimated baseline sustained for ≥10 seconds.`\n",
    "\n",
    "❌ 2. Hard thresholds (like 85%, 90%) define absolute hypoxia, not dynamic changes\n",
    "\n",
    "- They are used for hypoxic burden, not for detecting discrete events.\n",
    "\n",
    "- You cannot define \"ODI at 85%\" because:\n",
    "\n",
    "    - It's not about events, but about cumulative time below 85%.\n",
    "\n",
    "    - If SpO₂ dips below 85%, you may be in a continuous hypoxic state, not experiencing discrete desaturations.\n",
    "\n",
    "🧩 In Summary:\n",
    "\n",
    "- ODI requires a % drop, not a fixed value.\n",
    "\n",
    "- Hard thresholds (like 85%) are about being below a line, not dropping by a %.\n",
    "\n",
    "- That’s why ODI is correctly only used with relative thresholds, and not computed or used with hard thresholds in your feature extraction."
   ]
  },
  {
   "cell_type": "code",
   "execution_count": 50,
   "id": "6d528076",
   "metadata": {},
   "outputs": [
    {
     "name": "stdout",
     "output_type": "stream",
     "text": [
      "\u001b[92m[DEBUG]\u001b[0m Computing desaturation features\n",
      "\u001b[92m[DEBUG]\u001b[0m Completed computing desaturation features\n"
     ]
    }
   ],
   "source": [
    "# desat_class = DesaturationsMeasures(ODI_Threshold=3, threshold_method=DesatMethodEnum.Relative)\n",
    "desat_class = DesaturationsMeasures(ODI_Threshold=3, hard_threshold=85, threshold_method=DesatMethodEnum.Hard)\n",
    "# Compute the biomarkers with known desaturation locations\n",
    "print(f\"{light_green}[DEBUG]{reset} Computing desaturation features\")\n",
    "results_desat = desat_class.compute(spo2)\n",
    "print(f\"{light_green}[DEBUG]{reset} Completed computing desaturation features\")"
   ]
  },
  {
   "cell_type": "code",
   "execution_count": 51,
   "id": "9fd718d6",
   "metadata": {},
   "outputs": [
    {
     "data": {
      "text/plain": [
       "DesaturationsMeasuresResults(ODI=0, DL_u=0, DL_sd=0, DA100_u=0, DA100_sd=0, DAmax_u=0, DAmax_sd=0, DD100_u=0, DD100_sd=0, DDmax_u=0, DDmax_sd=0, DS_u=0, DS_sd=0, TD_u=0, TD_sd=0, DL_a_u=0, DL_a_sd=0, DL_b_u=0, DL_b_sd=0, begin=[], end=[])"
      ]
     },
     "execution_count": 51,
     "metadata": {},
     "output_type": "execute_result"
    }
   ],
   "source": [
    "results_desat"
   ]
  },
  {
   "cell_type": "markdown",
   "id": "081115fe",
   "metadata": {},
   "source": [
    "### Hypoxic Burden Features\n",
    "\n",
    "| #  | **Feature**       | **Category**       | **Description**                                                         |\n",
    "| -- | ----------------- | ------------------ | ----------------------------------------------------------------------- |\n",
    "| 40 | PODx              | Hypoxic Burden     | Time under desaturation events normalized by recording time             |\n",
    "| 41 | AODmax            | Hypoxic Burden     | Area under desaturation curve (max SpO₂ as baseline) normalized by time |\n",
    "| 42 | AOD100            | Hypoxic Burden     | Area under 100% baseline normalized by time                             |\n",
    "| 43 | CTx               | Hypoxic Burden     | Cumulative time under x% SpO₂                                           |\n",
    "| 44 | CAx               | Hypoxic Burden     | Integral (area) of SpO₂ under x% level, normalized by time              |"
   ]
  },
  {
   "cell_type": "code",
   "execution_count": 38,
   "id": "99d14264",
   "metadata": {},
   "outputs": [
    {
     "name": "stdout",
     "output_type": "stream",
     "text": [
      "\u001b[92m[DEBUG]\u001b[0m Computing burden features\n",
      "\u001b[92m[DEBUG]\u001b[0m Completed computing burden features\n"
     ]
    }
   ],
   "source": [
    "hypoxic_class = HypoxicBurdenMeasures(results_desat.begin, results_desat.end, CT_Threshold=90, CA_Baseline=90)\n",
    "# Compute the biomarkers\n",
    "print(f\"{light_green}[DEBUG]{reset} Computing burden features\")\n",
    "results_hypoxic = hypoxic_class.compute(spo2)\n",
    "print(f\"{light_green}[DEBUG]{reset} Completed computing burden features\")"
   ]
  },
  {
   "cell_type": "code",
   "execution_count": 39,
   "id": "1a5c4cfd",
   "metadata": {},
   "outputs": [
    {
     "data": {
      "text/plain": [
       "HypoxicBurdenMeasuresResults(CA=0.02257936507936508, CT=0.0, POD=0.005674603174603174, AODmax=0.0071031746031746034, AOD100=0.024523809523809524)"
      ]
     },
     "execution_count": 39,
     "metadata": {},
     "output_type": "execute_result"
    }
   ],
   "source": [
    "results_hypoxic"
   ]
  },
  {
   "cell_type": "markdown",
   "id": "b3346b90",
   "metadata": {},
   "source": [
    "### Complexity Features\n",
    "\n",
    "| #  | **Feature**       | **Category**       | **Description**                                                         |\n",
    "| -- | ----------------- | ------------------ | ----------------------------------------------------------------------- |\n",
    "| 10 | ApEn              | Complexity         | Approximate entropy – regularity of the time series                     |\n",
    "| 11 | LZ                | Complexity         | Lempel–Ziv complexity – compressibility of the signal                   |\n",
    "| 12 | CTMp              | Complexity         | Central tendency measure – deviation from a central tendency            |\n",
    "| 13 | SampEn            | Complexity         | Sample entropy – complexity measure of time series                      |\n",
    "| 14 | DFA               | Complexity         | Detrended Fluctuation Analysis – fractal scaling properties             |\n",
    "\n",
    "**When you should compute these complexity features:**\n",
    "\n",
    "- Your task benefits from complexity/irregularity analysis — e.g., detecting sleep apnea or physiological abnormalities often relies on entropy, Lempel-Ziv, DFA.\n",
    "\n",
    "- You have manageable data size or enough compute power to run these calculations offline or batch mode.\n",
    "\n",
    "- Your model or analysis improves significantly with these features — e.g., better accuracy, insight, or biomarker discovery.\n",
    "\n",
    "- You can afford the computation time or optimize with tricks like windowing, caching, or JIT compiling.\n",
    "\n",
    "**When you might skip or delay computing complexity features:**\n",
    "\n",
    "- Your dataset is very large (millions of samples or many subjects) and time/resources are limited.\n",
    "\n",
    "- Quick inference or real-time processing is required — these features are computationally expensive and may cause delays.\n",
    "\n",
    "- You want a fast prototyping phase to explore simpler features first.\n",
    "\n",
    "- Your baseline models work well without them; complexity features add little marginal gain.\n",
    "\n",
    "- You can approximate or replace them with cheaper features (e.g., statistical moments, FFT features).\n",
    "\n",
    "**Middle ground approaches:**\n",
    "\n",
    "- Compute complexity features only on a subset of data or segments (windowed or event-triggered).\n",
    "\n",
    "- Use lower embedding dimensions or smaller window sizes to speed up computations (at some loss of precision).\n",
    "\n",
    "- Precompute and save these features offline for future use.\n",
    "\n",
    "- Use hardware acceleration (like numba) or batch jobs."
   ]
  },
  {
   "cell_type": "markdown",
   "id": "0bc69067",
   "metadata": {},
   "source": [
    "### General Reasons Why calculating complexity features is slow\n",
    "\n",
    "1. **Inefficient Algorithms**\n",
    "\n",
    "    Many of the complexity measures (e.g., ApEn, SampEn) use **brute-force** or **nested loops** without vectorization. For large signals (e.g., thousands of samples), this results in:\n",
    "\n",
    "* **O(N²)** or worse time complexity.\n",
    "* Repeated comparisons and subarray creation.\n",
    "\n",
    "2. **No Early Termination or Short-Circuiting**\n",
    "\n",
    "    Functions like `comp_apen` and `comp_sampen` **compare every possible sub-sequence**, regardless of how little they differ — this is **computationally expensive** and not optimized.\n",
    "\n",
    "3. **No Cython/Numba Acceleration**\n",
    "\n",
    "    All calculations are pure Python/NumPy. Libraries like [`numba`](https://numba.pydata.org/) or `cython` would drastically reduce runtime but are not used.\n",
    "\n",
    "---\n",
    "\n",
    "**🔍 Detailed Breakdown**\n",
    "\n",
    "🔴 `comp_apen()` + `__apen()`\n",
    "\n",
    "* Time Complexity: **O(N²)**\n",
    "* Reason: For each sub-sequence of size `m`, it compares with every other (`N - m + 1` × `N - m + 1` matrix of comparisons).\n",
    "* Uses nested loops and logs — which are slow if done repeatedly.\n",
    "\n",
    "🔴 `comp_sampen()`\n",
    "\n",
    "* Time Complexity: **O(N²)**\n",
    "* Reason: Similar brute-force search over sub-sequences of length `m` and `m+1`.\n",
    "* Also has redundancy in calculations and no pruning of unpromising matches.\n",
    "\n",
    "🔴 `comp_lz()`\n",
    "\n",
    "* Time Complexity: **O(N²)** worst-case\n",
    "* Reason: Creates substrings and keeps checking if they exist in a set. String operations in Python are **slow** and memory-intensive.\n",
    "\n",
    "🟠 `comp_ctm()`\n",
    "\n",
    "* Time Complexity: **O(N)**\n",
    "* But the `sqrt()` inside the loop adds computational overhead.\n",
    "* Not vectorized (looping through each triple of values).\n",
    "\n",
    "🟡 `comp_dfa()`\n",
    "\n",
    "* Time Complexity: **O(N)** (more precisely O(N/n) \\* n for piecewise regression)\n",
    "* Reason: Applies **linear regression** on **moving windows**.\n",
    "* Uses `scipy.stats.linregress`, which is convenient but not optimized for repeated short-length calls.\n"
   ]
  },
  {
   "cell_type": "code",
   "execution_count": null,
   "id": "fcc31fdc",
   "metadata": {},
   "outputs": [],
   "source": []
  }
 ],
 "metadata": {
  "kernelspec": {
   "display_name": "spo2",
   "language": "python",
   "name": "python3"
  },
  "language_info": {
   "codemirror_mode": {
    "name": "ipython",
    "version": 3
   },
   "file_extension": ".py",
   "mimetype": "text/x-python",
   "name": "python",
   "nbconvert_exporter": "python",
   "pygments_lexer": "ipython3",
   "version": "3.8.20"
  }
 },
 "nbformat": 4,
 "nbformat_minor": 5
}
